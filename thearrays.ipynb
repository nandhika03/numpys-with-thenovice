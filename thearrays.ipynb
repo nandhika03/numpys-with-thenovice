{
 "cells": [
  {
   "cell_type": "code",
   "execution_count": 1,
   "id": "ec342482",
   "metadata": {
    "_cell_guid": "b1076dfc-b9ad-4769-8c92-a6c4dae69d19",
    "_uuid": "8f2839f25d086af736a60e9eeb907d3b93b6e0e5",
    "execution": {
     "iopub.execute_input": "2024-05-30T15:02:41.052113Z",
     "iopub.status.busy": "2024-05-30T15:02:41.051035Z",
     "iopub.status.idle": "2024-05-30T15:02:42.063604Z",
     "shell.execute_reply": "2024-05-30T15:02:42.062578Z"
    },
    "papermill": {
     "duration": 1.023237,
     "end_time": "2024-05-30T15:02:42.066014",
     "exception": false,
     "start_time": "2024-05-30T15:02:41.042777",
     "status": "completed"
    },
    "tags": []
   },
   "outputs": [],
   "source": [
    "# This Python 3 environment comes with many helpful analytics libraries installed\n",
    "# It is defined by the kaggle/python Docker image: https://github.com/kaggle/docker-python\n",
    "# For example, here's several helpful packages to load\n",
    "\n",
    "import numpy as np # linear algebra\n",
    "import pandas as pd # data processing, CSV file I/O (e.g. pd.read_csv)\n",
    "\n",
    "# Input data files are available in the read-only \"../input/\" directory\n",
    "# For example, running this (by clicking run or pressing Shift+Enter) will list all files under the input directory\n",
    "\n",
    "import os\n",
    "for dirname, _, filenames in os.walk('/kaggle/input'):\n",
    "    for filename in filenames:\n",
    "        print(os.path.join(dirname, filename))\n",
    "\n",
    "# You can write up to 20GB to the current directory (/kaggle/working/) that gets preserved as output when you create a version using \"Save & Run All\" \n",
    "# You can also write temporary files to /kaggle/temp/, but they won't be saved outside of the current session"
   ]
  },
  {
   "cell_type": "markdown",
   "id": "8210a715",
   "metadata": {
    "papermill": {
     "duration": 0.00504,
     "end_time": "2024-05-30T15:02:42.076526",
     "exception": false,
     "start_time": "2024-05-30T15:02:42.071486",
     "status": "completed"
    },
    "tags": []
   },
   "source": [
    "# **THE NUMPY ARRAY**\n",
    "\n",
    "(pardon me if there are mistakes and feel free to correct me in the comments!)\n",
    "\n",
    "- Numpy is a powerful python library that deals with arrays and numbers\n",
    "- The numpy array can be envisioned like a vessel/container that holds the numerical data\n",
    "- The shape, capacity and flexibility of the container with the items inside is crucial\n",
    "- The Numpy arrays are used more because they consume less memory and they can be very swift\n"
   ]
  },
  {
   "cell_type": "markdown",
   "id": "bd6a5853",
   "metadata": {
    "papermill": {
     "duration": 0.005111,
     "end_time": "2024-05-30T15:02:42.086864",
     "exception": false,
     "start_time": "2024-05-30T15:02:42.081753",
     "status": "completed"
    },
    "tags": []
   },
   "source": [
    "# **Bringing the arrays to life**"
   ]
  },
  {
   "cell_type": "code",
   "execution_count": 2,
   "id": "74395389",
   "metadata": {
    "execution": {
     "iopub.execute_input": "2024-05-30T15:02:42.099541Z",
     "iopub.status.busy": "2024-05-30T15:02:42.098469Z",
     "iopub.status.idle": "2024-05-30T15:02:43.578301Z",
     "shell.execute_reply": "2024-05-30T15:02:43.577040Z"
    },
    "papermill": {
     "duration": 1.488755,
     "end_time": "2024-05-30T15:02:43.580809",
     "exception": false,
     "start_time": "2024-05-30T15:02:42.092054",
     "status": "completed"
    },
    "tags": []
   },
   "outputs": [
    {
     "name": "stdout",
     "output_type": "stream",
     "text": [
      "[1 2 3 4 5]\n"
     ]
    }
   ],
   "source": [
    "import numpy as np\n",
    "import seaborn as sns\n",
    "ar = np.array([1,2,3,4,5])\n",
    "ar1 = np.array([1,2,3,4,5])\n",
    "print(ar)"
   ]
  },
  {
   "cell_type": "code",
   "execution_count": 3,
   "id": "82371db7",
   "metadata": {
    "execution": {
     "iopub.execute_input": "2024-05-30T15:02:43.593002Z",
     "iopub.status.busy": "2024-05-30T15:02:43.592632Z",
     "iopub.status.idle": "2024-05-30T15:02:44.040253Z",
     "shell.execute_reply": "2024-05-30T15:02:44.039007Z"
    },
    "papermill": {
     "duration": 0.456801,
     "end_time": "2024-05-30T15:02:44.042944",
     "exception": false,
     "start_time": "2024-05-30T15:02:43.586143",
     "status": "completed"
    },
    "tags": []
   },
   "outputs": [
    {
     "name": "stdout",
     "output_type": "stream",
     "text": [
      "[ 0.50599522 -1.27588392  0.59030496 -1.28239705 -0.33407462 -1.02194004\n",
      "  1.86422124 -0.16192919  0.74377662  0.44915269  0.20308887  0.55714609\n",
      " -1.58408401 -0.11143724  0.51720846 -0.39075974  2.15694161 -0.0869136\n",
      " -0.83933995 -1.97257155  0.03646813 -0.87736892 -0.14362037 -0.0154677\n",
      "  1.77158731  0.43151769  0.98258681  0.07211936 -1.54246123 -2.25153073\n",
      " -0.80039968 -0.0542134   1.62922964 -0.73600686  1.76833397  0.73811778\n",
      "  0.06215579  0.93991694 -0.06199609 -1.67244564 -0.62469147  0.55908109\n",
      " -0.85961203 -1.44927149  1.69959963 -0.550692   -0.45127104 -0.90338883\n",
      "  0.57554701 -0.90027697 -0.6924313   0.17984162  0.86467894  0.24039625\n",
      " -0.02999374 -0.48230593 -1.0472094  -1.31839868  0.56041371 -0.737243\n",
      "  0.83163232  1.77156649 -0.22727474  0.29541592  1.42145592 -0.01864192\n",
      "  0.24090992 -0.04859543  1.93440621  0.27213987  0.29448074 -0.10676473\n",
      "  0.53823959  0.11098924  0.38807776 -1.16505069 -1.93283798 -0.56885875\n",
      " -0.72298462  0.98633889 -0.37225513 -1.6079031  -1.37428863  0.62133209\n",
      " -0.20783887  0.41290364  1.24796425 -0.91192262 -0.51817635  0.58789009\n",
      " -2.08156496 -0.83531842 -0.16620984 -1.36684527 -1.19282124  0.14270424\n",
      "  0.77482337 -1.39342548 -0.27597391  0.6966341 ]\n"
     ]
    },
    {
     "name": "stderr",
     "output_type": "stream",
     "text": [
      "/opt/conda/lib/python3.10/site-packages/seaborn/_oldcore.py:1119: FutureWarning: use_inf_as_na option is deprecated and will be removed in a future version. Convert inf values to NaN before operating instead.\n",
      "  with pd.option_context('mode.use_inf_as_na', True):\n"
     ]
    },
    {
     "data": {
      "text/plain": [
       "<Axes: ylabel='Count'>"
      ]
     },
     "execution_count": 3,
     "metadata": {},
     "output_type": "execute_result"
    },
    {
     "data": {
      "image/png": "[encoded data removed]",
      "text/plain": [
       "<Figure size 640x480 with 1 Axes>"
      ]
     },
     "metadata": {},
     "output_type": "display_data"
    }
   ],
   "source": [
    "#Using the random function\n",
    "#There are lot of distributions the from which the array could be born.\n",
    "#We focus on creating an array of normal distribution\n",
    "arrn = np.random.normal(size = 100)\n",
    "arrn = np.where(np.isinf(arrn),np.nan,arrn)\n",
    "print(arrn)\n",
    "sns.histplot(arrn,kde=True)"
   ]
  },
  {
   "cell_type": "code",
   "execution_count": 4,
   "id": "4645b274",
   "metadata": {
    "execution": {
     "iopub.execute_input": "2024-05-30T15:02:44.057423Z",
     "iopub.status.busy": "2024-05-30T15:02:44.056598Z",
     "iopub.status.idle": "2024-05-30T15:02:44.064214Z",
     "shell.execute_reply": "2024-05-30T15:02:44.063053Z"
    },
    "papermill": {
     "duration": 0.017686,
     "end_time": "2024-05-30T15:02:44.066896",
     "exception": false,
     "start_time": "2024-05-30T15:02:44.049210",
     "status": "completed"
    },
    "tags": []
   },
   "outputs": [
    {
     "name": "stdout",
     "output_type": "stream",
     "text": [
      "[10.        +0.j 10.43478261+0.j 10.86956522+0.j 11.30434783+0.j\n",
      " 11.73913043+0.j 12.17391304+0.j 12.60869565+0.j 13.04347826+0.j\n",
      " 13.47826087+0.j 13.91304348+0.j 14.34782609+0.j 14.7826087 +0.j\n",
      " 15.2173913 +0.j 15.65217391+0.j 16.08695652+0.j 16.52173913+0.j\n",
      " 16.95652174+0.j 17.39130435+0.j 17.82608696+0.j 18.26086957+0.j\n",
      " 18.69565217+0.j 19.13043478+0.j 19.56521739+0.j 20.        +0.j]\n",
      "complex128\n"
     ]
    }
   ],
   "source": [
    "#Linspace\n",
    "#Explicitly mentioning the data-type\n",
    "ar2 = np.linspace(10,20,num=24,dtype=complex)\n",
    "print(ar2)\n",
    "#Checking the data type\n",
    "print(ar2.dtype)\n",
    "an = np.array([1,2,3,4,5,6])\n",
    "#The default datatype of the array is float64"
   ]
  },
  {
   "cell_type": "code",
   "execution_count": 5,
   "id": "8ed7add8",
   "metadata": {
    "execution": {
     "iopub.execute_input": "2024-05-30T15:02:44.081274Z",
     "iopub.status.busy": "2024-05-30T15:02:44.080843Z",
     "iopub.status.idle": "2024-05-30T15:02:44.089209Z",
     "shell.execute_reply": "2024-05-30T15:02:44.087885Z"
    },
    "papermill": {
     "duration": 0.018559,
     "end_time": "2024-05-30T15:02:44.091624",
     "exception": false,
     "start_time": "2024-05-30T15:02:44.073065",
     "status": "completed"
    },
    "tags": []
   },
   "outputs": [
    {
     "name": "stdout",
     "output_type": "stream",
     "text": [
      "[[1 2]\n",
      " [3 4]\n",
      " [5 6]]\n",
      "[[[10.        +0.j 10.43478261+0.j 10.86956522+0.j 11.30434783+0.j]\n",
      "  [11.73913043+0.j 12.17391304+0.j 12.60869565+0.j 13.04347826+0.j]]\n",
      "\n",
      " [[13.47826087+0.j 13.91304348+0.j 14.34782609+0.j 14.7826087 +0.j]\n",
      "  [15.2173913 +0.j 15.65217391+0.j 16.08695652+0.j 16.52173913+0.j]]\n",
      "\n",
      " [[16.95652174+0.j 17.39130435+0.j 17.82608696+0.j 18.26086957+0.j]\n",
      "  [18.69565217+0.j 19.13043478+0.j 19.56521739+0.j 20.        +0.j]]]\n",
      "[[[10.        +0.j 10.43478261+0.j 10.86956522+0.j 11.30434783+0.j\n",
      "   11.73913043+0.j 12.17391304+0.j]]\n",
      "\n",
      " [[12.60869565+0.j 13.04347826+0.j 13.47826087+0.j 13.91304348+0.j\n",
      "   14.34782609+0.j 14.7826087 +0.j]]\n",
      "\n",
      " [[15.2173913 +0.j 15.65217391+0.j 16.08695652+0.j 16.52173913+0.j\n",
      "   16.95652174+0.j 17.39130435+0.j]]\n",
      "\n",
      " [[17.82608696+0.j 18.26086957+0.j 18.69565217+0.j 19.13043478+0.j\n",
      "   19.56521739+0.j 20.        +0.j]]]\n"
     ]
    }
   ],
   "source": [
    "#Creating a 2d-array\n",
    "ar2d = an.reshape(3,2)\n",
    "print(ar2d)\n",
    "#Creating a 3-d array\n",
    "ar3d = ar2.reshape(3,2,4)\n",
    "print(ar3d)\n",
    "\n",
    "ar4d = ar2.reshape(4,1,6)\n",
    "print(ar4d)"
   ]
  },
  {
   "cell_type": "markdown",
   "id": "01f598b0",
   "metadata": {
    "papermill": {
     "duration": 0.00581,
     "end_time": "2024-05-30T15:02:44.103746",
     "exception": false,
     "start_time": "2024-05-30T15:02:44.097936",
     "status": "completed"
    },
    "tags": []
   },
   "source": [
    "# **Array Attributes**"
   ]
  },
  {
   "cell_type": "markdown",
   "id": "ab73af60",
   "metadata": {
    "papermill": {
     "duration": 0.005817,
     "end_time": "2024-05-30T15:02:44.116168",
     "exception": false,
     "start_time": "2024-05-30T15:02:44.110351",
     "status": "completed"
    },
    "tags": []
   },
   "source": [
    "**Shape**"
   ]
  },
  {
   "cell_type": "code",
   "execution_count": 6,
   "id": "5945ada6",
   "metadata": {
    "execution": {
     "iopub.execute_input": "2024-05-30T15:02:44.131133Z",
     "iopub.status.busy": "2024-05-30T15:02:44.130723Z",
     "iopub.status.idle": "2024-05-30T15:02:44.136662Z",
     "shell.execute_reply": "2024-05-30T15:02:44.135612Z"
    },
    "papermill": {
     "duration": 0.016982,
     "end_time": "2024-05-30T15:02:44.139279",
     "exception": false,
     "start_time": "2024-05-30T15:02:44.122297",
     "status": "completed"
    },
    "tags": []
   },
   "outputs": [
    {
     "name": "stdout",
     "output_type": "stream",
     "text": [
      "(5,)\n",
      "(3, 2)\n",
      "(3, 2, 4)\n",
      "(4, 1, 6)\n"
     ]
    }
   ],
   "source": [
    "print(ar.shape)   #1-d\n",
    "print(ar2d.shape) #2-d\n",
    "print(ar3d.shape) #3-d\n",
    "print(ar4d.shape) #3-d"
   ]
  },
  {
   "cell_type": "markdown",
   "id": "c96580cc",
   "metadata": {
    "papermill": {
     "duration": 0.005986,
     "end_time": "2024-05-30T15:02:44.151495",
     "exception": false,
     "start_time": "2024-05-30T15:02:44.145509",
     "status": "completed"
    },
    "tags": []
   },
   "source": [
    "Size"
   ]
  },
  {
   "cell_type": "code",
   "execution_count": 7,
   "id": "12b561f2",
   "metadata": {
    "execution": {
     "iopub.execute_input": "2024-05-30T15:02:44.165747Z",
     "iopub.status.busy": "2024-05-30T15:02:44.165268Z",
     "iopub.status.idle": "2024-05-30T15:02:44.171328Z",
     "shell.execute_reply": "2024-05-30T15:02:44.170055Z"
    },
    "papermill": {
     "duration": 0.015833,
     "end_time": "2024-05-30T15:02:44.173443",
     "exception": false,
     "start_time": "2024-05-30T15:02:44.157610",
     "status": "completed"
    },
    "tags": []
   },
   "outputs": [
    {
     "name": "stdout",
     "output_type": "stream",
     "text": [
      "5\n",
      "6\n",
      "24\n",
      "24\n"
     ]
    }
   ],
   "source": [
    "print(ar.size)\n",
    "print(ar2d.size)\n",
    "print(ar3d.size)\n",
    "print(ar4d.size)"
   ]
  },
  {
   "cell_type": "markdown",
   "id": "c29a9c06",
   "metadata": {
    "papermill": {
     "duration": 0.005969,
     "end_time": "2024-05-30T15:02:44.185846",
     "exception": false,
     "start_time": "2024-05-30T15:02:44.179877",
     "status": "completed"
    },
    "tags": []
   },
   "source": [
    "ItemSize"
   ]
  },
  {
   "cell_type": "code",
   "execution_count": 8,
   "id": "54ea9e40",
   "metadata": {
    "execution": {
     "iopub.execute_input": "2024-05-30T15:02:44.201759Z",
     "iopub.status.busy": "2024-05-30T15:02:44.200557Z",
     "iopub.status.idle": "2024-05-30T15:02:44.206921Z",
     "shell.execute_reply": "2024-05-30T15:02:44.205586Z"
    },
    "papermill": {
     "duration": 0.016889,
     "end_time": "2024-05-30T15:02:44.209608",
     "exception": false,
     "start_time": "2024-05-30T15:02:44.192719",
     "status": "completed"
    },
    "tags": []
   },
   "outputs": [
    {
     "name": "stdout",
     "output_type": "stream",
     "text": [
      "8 8 16 16\n"
     ]
    }
   ],
   "source": [
    "print(ar.itemsize,ar2d.itemsize,ar3d.itemsize,ar4d.itemsize)"
   ]
  },
  {
   "cell_type": "markdown",
   "id": "d8955b41",
   "metadata": {
    "papermill": {
     "duration": 0.006145,
     "end_time": "2024-05-30T15:02:44.222339",
     "exception": false,
     "start_time": "2024-05-30T15:02:44.216194",
     "status": "completed"
    },
    "tags": []
   },
   "source": [
    "**The dimension**\n",
    "\n",
    "Here dimensionality refers to the number of axes present in the array"
   ]
  },
  {
   "cell_type": "code",
   "execution_count": 9,
   "id": "2877fc5a",
   "metadata": {
    "execution": {
     "iopub.execute_input": "2024-05-30T15:02:44.236805Z",
     "iopub.status.busy": "2024-05-30T15:02:44.236424Z",
     "iopub.status.idle": "2024-05-30T15:02:44.242102Z",
     "shell.execute_reply": "2024-05-30T15:02:44.240985Z"
    },
    "papermill": {
     "duration": 0.015652,
     "end_time": "2024-05-30T15:02:44.244288",
     "exception": false,
     "start_time": "2024-05-30T15:02:44.228636",
     "status": "completed"
    },
    "tags": []
   },
   "outputs": [
    {
     "name": "stdout",
     "output_type": "stream",
     "text": [
      "1\n",
      "2\n",
      "3\n",
      "3\n"
     ]
    }
   ],
   "source": [
    "print(ar.ndim)   #1-d\n",
    "print(ar2d.ndim) #2-d\n",
    "print(ar3d.ndim) #3-d\n",
    "print(ar4d.ndim) #3-d"
   ]
  },
  {
   "cell_type": "markdown",
   "id": "a519b452",
   "metadata": {
    "papermill": {
     "duration": 0.006287,
     "end_time": "2024-05-30T15:02:44.256953",
     "exception": false,
     "start_time": "2024-05-30T15:02:44.250666",
     "status": "completed"
    },
    "tags": []
   },
   "source": [
    "# **Operations**\n",
    "\n",
    "Various operations including mathematical operations like sin, cosine, inverse of the former ones, rounding about, modulus, flood division, etc can be performed"
   ]
  },
  {
   "cell_type": "code",
   "execution_count": 10,
   "id": "8b2bfd4c",
   "metadata": {
    "execution": {
     "iopub.execute_input": "2024-05-30T15:02:44.271709Z",
     "iopub.status.busy": "2024-05-30T15:02:44.271295Z",
     "iopub.status.idle": "2024-05-30T15:02:44.278768Z",
     "shell.execute_reply": "2024-05-30T15:02:44.277856Z"
    },
    "papermill": {
     "duration": 0.017656,
     "end_time": "2024-05-30T15:02:44.281174",
     "exception": false,
     "start_time": "2024-05-30T15:02:44.263518",
     "status": "completed"
    },
    "tags": []
   },
   "outputs": [
    {
     "name": "stdout",
     "output_type": "stream",
     "text": [
      "[ 2  4  6  8 10] [0 0 0 0 0]\n",
      "[ 1  4  9 16 25] [1. 1. 1. 1. 1.] 120\n",
      "[[[10.         10.43478261 10.86956522 11.30434783]\n",
      "  [11.73913043 12.17391304 12.60869565 13.04347826]]\n",
      "\n",
      " [[13.47826087 13.91304348 14.34782609 14.7826087 ]\n",
      "  [15.2173913  15.65217391 16.08695652 16.52173913]]\n",
      "\n",
      " [[16.95652174 17.39130435 17.82608696 18.26086957]\n",
      "  [18.69565217 19.13043478 19.56521739 20.        ]]]\n"
     ]
    }
   ],
   "source": [
    "#Addition and subtraction\n",
    "print(np.add(ar,ar1),np.subtract(ar,ar1))\n",
    "#Multiplication, Division and Prod\n",
    "print(np.multiply(ar,ar1),np.divide(ar,ar1),np.prod(ar))\n",
    "#Returns the real parts for complex numbers\n",
    "print(np.real_if_close(ar3d))"
   ]
  },
  {
   "cell_type": "markdown",
   "id": "da8f78c2",
   "metadata": {
    "papermill": {
     "duration": 0.00624,
     "end_time": "2024-05-30T15:02:44.294044",
     "exception": false,
     "start_time": "2024-05-30T15:02:44.287804",
     "status": "completed"
    },
    "tags": []
   },
   "source": [
    "# **Universal Functions**\n",
    "\n",
    "*  these are functions that operate element by element on the arrays\n",
    "*  the add function adds all the elements in the array\n",
    "*  the accumulate function applies the result as if applied to all the elements in the array\n",
    "*  the outer function gives the outer product for the two vectors which can be used to expand the dimensionality"
   ]
  },
  {
   "cell_type": "code",
   "execution_count": 11,
   "id": "6fae9fab",
   "metadata": {
    "execution": {
     "iopub.execute_input": "2024-05-30T15:02:44.309126Z",
     "iopub.status.busy": "2024-05-30T15:02:44.308663Z",
     "iopub.status.idle": "2024-05-30T15:02:44.315317Z",
     "shell.execute_reply": "2024-05-30T15:02:44.313845Z"
    },
    "papermill": {
     "duration": 0.017259,
     "end_time": "2024-05-30T15:02:44.317986",
     "exception": false,
     "start_time": "2024-05-30T15:02:44.300727",
     "status": "completed"
    },
    "tags": []
   },
   "outputs": [
    {
     "name": "stdout",
     "output_type": "stream",
     "text": [
      "[ 1  3  6 10 15]\n",
      "[[ 1  2  3  4  5]\n",
      " [ 2  4  6  8 10]\n",
      " [ 3  6  9 12 15]\n",
      " [ 4  8 12 16 20]\n",
      " [ 5 10 15 20 25]]\n"
     ]
    }
   ],
   "source": [
    "print(np.add.accumulate(ar))\n",
    "print(np.outer(ar,ar1))"
   ]
  },
  {
   "cell_type": "markdown",
   "id": "be8d5161",
   "metadata": {
    "papermill": {
     "duration": 0.006486,
     "end_time": "2024-05-30T15:02:44.331307",
     "exception": false,
     "start_time": "2024-05-30T15:02:44.324821",
     "status": "completed"
    },
    "tags": []
   },
   "source": [
    "# Indexing, Slicing, reshaping and Resizing "
   ]
  },
  {
   "cell_type": "code",
   "execution_count": 12,
   "id": "dae92482",
   "metadata": {
    "execution": {
     "iopub.execute_input": "2024-05-30T15:02:44.346864Z",
     "iopub.status.busy": "2024-05-30T15:02:44.346467Z",
     "iopub.status.idle": "2024-05-30T15:02:44.352381Z",
     "shell.execute_reply": "2024-05-30T15:02:44.351134Z"
    },
    "papermill": {
     "duration": 0.016528,
     "end_time": "2024-05-30T15:02:44.354888",
     "exception": false,
     "start_time": "2024-05-30T15:02:44.338360",
     "status": "completed"
    },
    "tags": []
   },
   "outputs": [
    {
     "name": "stdout",
     "output_type": "stream",
     "text": [
      "1\n",
      "2\n",
      "(12.608695652173914+0j)\n",
      "(18.26086956521739+0j)\n"
     ]
    }
   ],
   "source": [
    "#Indexing\n",
    "print(ar[0])\n",
    "print(ar2d[0,1])\n",
    "print(ar3d[0,1,2])\n",
    "print(ar4d[3,0,1])"
   ]
  },
  {
   "cell_type": "code",
   "execution_count": 13,
   "id": "1ed0d6c2",
   "metadata": {
    "execution": {
     "iopub.execute_input": "2024-05-30T15:02:44.370102Z",
     "iopub.status.busy": "2024-05-30T15:02:44.369633Z",
     "iopub.status.idle": "2024-05-30T15:02:44.374176Z",
     "shell.execute_reply": "2024-05-30T15:02:44.373075Z"
    },
    "papermill": {
     "duration": 0.014607,
     "end_time": "2024-05-30T15:02:44.376283",
     "exception": false,
     "start_time": "2024-05-30T15:02:44.361676",
     "status": "completed"
    },
    "tags": []
   },
   "outputs": [],
   "source": [
    "#Slicing\n"
   ]
  }
 ],
 "metadata": {
  "kaggle": {
   "accelerator": "none",
   "dataSources": [],
   "dockerImageVersionId": 30698,
   "isGpuEnabled": false,
   "isInternetEnabled": false,
   "language": "python",
   "sourceType": "notebook"
  },
  "kernelspec": {
   "display_name": "Python 3",
   "language": "python",
   "name": "python3"
  },
  "language_info": {
   "codemirror_mode": {
    "name": "ipython",
    "version": 3
   },
   "file_extension": ".py",
   "mimetype": "text/x-python",
   "name": "python",
   "nbconvert_exporter": "python",
   "pygments_lexer": "ipython3",
   "version": "3.10.13"
  },
  "papermill": {
   "default_parameters": {},
   "duration": 6.922553,
   "end_time": "2024-05-30T15:02:45.004962",
   "environment_variables": {},
   "exception": null,
   "input_path": "__notebook__.ipynb",
   "output_path": "__notebook__.ipynb",
   "parameters": {},
   "start_time": "2024-05-30T15:02:38.082409",
   "version": "2.5.0"
  }
 },
 "nbformat": 4,
 "nbformat_minor": 5
}
