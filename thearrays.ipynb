{
 "cells": [
  {
   "cell_type": "code",
   "execution_count": 1,
   "id": "140a090f",
   "metadata": {
    "_cell_guid": "b1076dfc-b9ad-4769-8c92-a6c4dae69d19",
    "_uuid": "8f2839f25d086af736a60e9eeb907d3b93b6e0e5",
    "execution": {
     "iopub.execute_input": "2024-05-30T16:43:34.154321Z",
     "iopub.status.busy": "2024-05-30T16:43:34.153878Z",
     "iopub.status.idle": "2024-05-30T16:43:34.958985Z",
     "shell.execute_reply": "2024-05-30T16:43:34.957935Z"
    },
    "papermill": {
     "duration": 0.814844,
     "end_time": "2024-05-30T16:43:34.961551",
     "exception": false,
     "start_time": "2024-05-30T16:43:34.146707",
     "status": "completed"
    },
    "tags": []
   },
   "outputs": [],
   "source": [
    "# This Python 3 environment comes with many helpful analytics libraries installed\n",
    "# It is defined by the kaggle/python Docker image: https://github.com/kaggle/docker-python\n",
    "# For example, here's several helpful packages to load\n",
    "\n",
    "import numpy as np # linear algebra\n",
    "import pandas as pd # data processing, CSV file I/O (e.g. pd.read_csv)\n",
    "\n",
    "# Input data files are available in the read-only \"../input/\" directory\n",
    "# For example, running this (by clicking run or pressing Shift+Enter) will list all files under the input directory\n",
    "\n",
    "import os\n",
    "for dirname, _, filenames in os.walk('/kaggle/input'):\n",
    "    for filename in filenames:\n",
    "        print(os.path.join(dirname, filename))\n",
    "\n",
    "# You can write up to 20GB to the current directory (/kaggle/working/) that gets preserved as output when you create a version using \"Save & Run All\" \n",
    "# You can also write temporary files to /kaggle/temp/, but they won't be saved outside of the current session"
   ]
  },
  {
   "cell_type": "markdown",
   "id": "b9ff5bac",
   "metadata": {
    "papermill": {
     "duration": 0.004783,
     "end_time": "2024-05-30T16:43:34.972564",
     "exception": false,
     "start_time": "2024-05-30T16:43:34.967781",
     "status": "completed"
    },
    "tags": []
   },
   "source": [
    "# **THE NUMPY ARRAY**\n",
    "\n",
    "(pardon me if there are mistakes and feel free to correct me in the comments!)\n",
    "\n",
    "- Numpy is a powerful python library that deals with arrays and numbers\n",
    "- The numpy array can be envisioned like a vessel/container that holds the numerical data\n",
    "- The shape, capacity and flexibility of the container with the items inside is crucial\n",
    "- The Numpy arrays are used more because they consume less memory and they can be very swift\n"
   ]
  },
  {
   "cell_type": "markdown",
   "id": "b4eaee84",
   "metadata": {
    "papermill": {
     "duration": 0.004601,
     "end_time": "2024-05-30T16:43:34.982126",
     "exception": false,
     "start_time": "2024-05-30T16:43:34.977525",
     "status": "completed"
    },
    "tags": []
   },
   "source": [
    "# **Bringing the arrays to life**"
   ]
  },
  {
   "cell_type": "code",
   "execution_count": 2,
   "id": "0f5f9084",
   "metadata": {
    "execution": {
     "iopub.execute_input": "2024-05-30T16:43:34.993933Z",
     "iopub.status.busy": "2024-05-30T16:43:34.992970Z",
     "iopub.status.idle": "2024-05-30T16:43:36.160572Z",
     "shell.execute_reply": "2024-05-30T16:43:36.159474Z"
    },
    "papermill": {
     "duration": 1.177928,
     "end_time": "2024-05-30T16:43:36.164802",
     "exception": false,
     "start_time": "2024-05-30T16:43:34.986874",
     "status": "completed"
    },
    "tags": []
   },
   "outputs": [
    {
     "name": "stdout",
     "output_type": "stream",
     "text": [
      "[1 2 3 4 5]\n"
     ]
    }
   ],
   "source": [
    "import numpy as np\n",
    "import seaborn as sns\n",
    "ar = np.array([1,2,3,4,5])\n",
    "ar1 = np.array([1,2,3,4,5])\n",
    "print(ar)"
   ]
  },
  {
   "cell_type": "code",
   "execution_count": 3,
   "id": "a60dfee8",
   "metadata": {
    "execution": {
     "iopub.execute_input": "2024-05-30T16:43:36.180598Z",
     "iopub.status.busy": "2024-05-30T16:43:36.180228Z",
     "iopub.status.idle": "2024-05-30T16:43:36.640047Z",
     "shell.execute_reply": "2024-05-30T16:43:36.638610Z"
    },
    "papermill": {
     "duration": 0.469812,
     "end_time": "2024-05-30T16:43:36.642434",
     "exception": false,
     "start_time": "2024-05-30T16:43:36.172622",
     "status": "completed"
    },
    "tags": []
   },
   "outputs": [
    {
     "name": "stdout",
     "output_type": "stream",
     "text": [
      "[ 1.45183607 -0.90491497 -0.36913091 -1.02499713  0.29842021  2.82519487\n",
      "  1.85520572 -0.26944116  1.04782593 -0.04057231  0.77401613 -0.07034988\n",
      " -1.32057412  2.58666525 -0.71970698 -0.09581522 -0.02640093 -1.26036087\n",
      " -0.29742838 -1.57224778 -0.19055291  1.35097666 -0.24086475  2.01310942\n",
      " -1.58766847  0.64588253  1.5467594  -1.31165483  0.28290407  0.66068099\n",
      "  0.0726597  -1.15967338 -1.76097204  0.65476539 -0.64309889 -0.08808868\n",
      " -0.3167986   1.42755111 -0.98079274  0.41079098 -0.90472851  0.35610553\n",
      "  1.92401095 -1.11797005  1.45025274 -0.43693196 -1.13117872  0.25917907\n",
      "  0.25135438  0.98823329 -1.00077373 -1.92768068  0.94641088 -0.15262681\n",
      " -1.28960608  1.73905621 -1.07798832 -0.35676132 -0.3277822   0.19736813\n",
      " -0.52907879  0.06587668  1.11488395  0.37614442  0.87966874  0.21166927\n",
      "  0.49119423  0.8213085  -0.06006991 -0.38204045  1.41973807  0.34836891\n",
      " -0.25918512  1.20108337 -0.50270784  0.37919562 -0.60937837 -0.21375692\n",
      " -1.02823187 -1.43617106 -0.35124797 -0.74890156  0.85285205 -1.03097742\n",
      "  0.36490075 -1.1580088  -0.72068196  1.27658964 -0.29690143 -0.06355165\n",
      "  0.73989275 -0.49724832 -0.48512862  0.34445539 -0.25955448 -1.23692324\n",
      " -0.48304801 -0.36541149 -0.61192035 -1.16685481]\n"
     ]
    },
    {
     "name": "stderr",
     "output_type": "stream",
     "text": [
      "/opt/conda/lib/python3.10/site-packages/seaborn/_oldcore.py:1119: FutureWarning: use_inf_as_na option is deprecated and will be removed in a future version. Convert inf values to NaN before operating instead.\n",
      "  with pd.option_context('mode.use_inf_as_na', True):\n"
     ]
    },
    {
     "data": {
      "text/plain": [
       "<Axes: ylabel='Count'>"
      ]
     },
     "execution_count": 3,
     "metadata": {},
     "output_type": "execute_result"
    },
    {
     "data": {
      "image/png": "[encoded data removed]",
      "text/plain": [
       "<Figure size 640x480 with 1 Axes>"
      ]
     },
     "metadata": {},
     "output_type": "display_data"
    }
   ],
   "source": [
    "#Using the random function\n",
    "#There are lot of distributions the from which the array could be born.\n",
    "#We focus on creating an array of normal distribution\n",
    "arrn = np.random.normal(size = 100)\n",
    "arrn = np.where(np.isinf(arrn),np.nan,arrn)\n",
    "print(arrn)\n",
    "sns.histplot(arrn,kde=True)"
   ]
  },
  {
   "cell_type": "code",
   "execution_count": 4,
   "id": "a65b8e80",
   "metadata": {
    "execution": {
     "iopub.execute_input": "2024-05-30T16:43:36.655654Z",
     "iopub.status.busy": "2024-05-30T16:43:36.655300Z",
     "iopub.status.idle": "2024-05-30T16:43:36.662299Z",
     "shell.execute_reply": "2024-05-30T16:43:36.661013Z"
    },
    "papermill": {
     "duration": 0.016029,
     "end_time": "2024-05-30T16:43:36.664420",
     "exception": false,
     "start_time": "2024-05-30T16:43:36.648391",
     "status": "completed"
    },
    "tags": []
   },
   "outputs": [
    {
     "name": "stdout",
     "output_type": "stream",
     "text": [
      "[10.        +0.j 10.43478261+0.j 10.86956522+0.j 11.30434783+0.j\n",
      " 11.73913043+0.j 12.17391304+0.j 12.60869565+0.j 13.04347826+0.j\n",
      " 13.47826087+0.j 13.91304348+0.j 14.34782609+0.j 14.7826087 +0.j\n",
      " 15.2173913 +0.j 15.65217391+0.j 16.08695652+0.j 16.52173913+0.j\n",
      " 16.95652174+0.j 17.39130435+0.j 17.82608696+0.j 18.26086957+0.j\n",
      " 18.69565217+0.j 19.13043478+0.j 19.56521739+0.j 20.        +0.j]\n",
      "complex128\n"
     ]
    }
   ],
   "source": [
    "#Linspace\n",
    "#Explicitly mentioning the data-type\n",
    "ar2 = np.linspace(10,20,num=24,dtype=complex)\n",
    "print(ar2)\n",
    "#Checking the data type\n",
    "print(ar2.dtype)\n",
    "an = np.array([1,2,3,4,5,6])\n",
    "#The default datatype of the array is float64"
   ]
  },
  {
   "cell_type": "code",
   "execution_count": 5,
   "id": "8926a6c4",
   "metadata": {
    "execution": {
     "iopub.execute_input": "2024-05-30T16:43:36.677208Z",
     "iopub.status.busy": "2024-05-30T16:43:36.676924Z",
     "iopub.status.idle": "2024-05-30T16:43:36.683858Z",
     "shell.execute_reply": "2024-05-30T16:43:36.682811Z"
    },
    "papermill": {
     "duration": 0.016211,
     "end_time": "2024-05-30T16:43:36.686371",
     "exception": false,
     "start_time": "2024-05-30T16:43:36.670160",
     "status": "completed"
    },
    "tags": []
   },
   "outputs": [
    {
     "name": "stdout",
     "output_type": "stream",
     "text": [
      "[[1 2]\n",
      " [3 4]\n",
      " [5 6]]\n",
      "[[[10.        +0.j 10.43478261+0.j 10.86956522+0.j 11.30434783+0.j]\n",
      "  [11.73913043+0.j 12.17391304+0.j 12.60869565+0.j 13.04347826+0.j]]\n",
      "\n",
      " [[13.47826087+0.j 13.91304348+0.j 14.34782609+0.j 14.7826087 +0.j]\n",
      "  [15.2173913 +0.j 15.65217391+0.j 16.08695652+0.j 16.52173913+0.j]]\n",
      "\n",
      " [[16.95652174+0.j 17.39130435+0.j 17.82608696+0.j 18.26086957+0.j]\n",
      "  [18.69565217+0.j 19.13043478+0.j 19.56521739+0.j 20.        +0.j]]]\n",
      "[[[10.        +0.j 10.43478261+0.j 10.86956522+0.j 11.30434783+0.j\n",
      "   11.73913043+0.j 12.17391304+0.j]]\n",
      "\n",
      " [[12.60869565+0.j 13.04347826+0.j 13.47826087+0.j 13.91304348+0.j\n",
      "   14.34782609+0.j 14.7826087 +0.j]]\n",
      "\n",
      " [[15.2173913 +0.j 15.65217391+0.j 16.08695652+0.j 16.52173913+0.j\n",
      "   16.95652174+0.j 17.39130435+0.j]]\n",
      "\n",
      " [[17.82608696+0.j 18.26086957+0.j 18.69565217+0.j 19.13043478+0.j\n",
      "   19.56521739+0.j 20.        +0.j]]]\n"
     ]
    }
   ],
   "source": [
    "#Creating a 2d-array\n",
    "ar2d = an.reshape(3,2)\n",
    "print(ar2d)\n",
    "#Creating a 3-d array\n",
    "ar3d = ar2.reshape(3,2,4)\n",
    "print(ar3d)\n",
    "\n",
    "ar4d = ar2.reshape(4,1,6)\n",
    "print(ar4d)"
   ]
  },
  {
   "cell_type": "markdown",
   "id": "a374b232",
   "metadata": {
    "papermill": {
     "duration": 0.005528,
     "end_time": "2024-05-30T16:43:36.697670",
     "exception": false,
     "start_time": "2024-05-30T16:43:36.692142",
     "status": "completed"
    },
    "tags": []
   },
   "source": [
    "# **Array Attributes**"
   ]
  },
  {
   "cell_type": "markdown",
   "id": "03b655e9",
   "metadata": {
    "papermill": {
     "duration": 0.005452,
     "end_time": "2024-05-30T16:43:36.708824",
     "exception": false,
     "start_time": "2024-05-30T16:43:36.703372",
     "status": "completed"
    },
    "tags": []
   },
   "source": [
    "**Shape**"
   ]
  },
  {
   "cell_type": "code",
   "execution_count": 6,
   "id": "beb3ec72",
   "metadata": {
    "execution": {
     "iopub.execute_input": "2024-05-30T16:43:36.722713Z",
     "iopub.status.busy": "2024-05-30T16:43:36.722368Z",
     "iopub.status.idle": "2024-05-30T16:43:36.727753Z",
     "shell.execute_reply": "2024-05-30T16:43:36.726763Z"
    },
    "papermill": {
     "duration": 0.015385,
     "end_time": "2024-05-30T16:43:36.729906",
     "exception": false,
     "start_time": "2024-05-30T16:43:36.714521",
     "status": "completed"
    },
    "tags": []
   },
   "outputs": [
    {
     "name": "stdout",
     "output_type": "stream",
     "text": [
      "(5,)\n",
      "(3, 2)\n",
      "(3, 2, 4)\n",
      "(4, 1, 6)\n"
     ]
    }
   ],
   "source": [
    "print(ar.shape)   #1-d\n",
    "print(ar2d.shape) #2-d\n",
    "print(ar3d.shape) #3-d\n",
    "print(ar4d.shape) #3-d"
   ]
  },
  {
   "cell_type": "markdown",
   "id": "eff34c97",
   "metadata": {
    "papermill": {
     "duration": 0.005433,
     "end_time": "2024-05-30T16:43:36.741103",
     "exception": false,
     "start_time": "2024-05-30T16:43:36.735670",
     "status": "completed"
    },
    "tags": []
   },
   "source": [
    "Size"
   ]
  },
  {
   "cell_type": "code",
   "execution_count": 7,
   "id": "2183519e",
   "metadata": {
    "execution": {
     "iopub.execute_input": "2024-05-30T16:43:36.753998Z",
     "iopub.status.busy": "2024-05-30T16:43:36.753409Z",
     "iopub.status.idle": "2024-05-30T16:43:36.758441Z",
     "shell.execute_reply": "2024-05-30T16:43:36.757490Z"
    },
    "papermill": {
     "duration": 0.014396,
     "end_time": "2024-05-30T16:43:36.761101",
     "exception": false,
     "start_time": "2024-05-30T16:43:36.746705",
     "status": "completed"
    },
    "tags": []
   },
   "outputs": [
    {
     "name": "stdout",
     "output_type": "stream",
     "text": [
      "5\n",
      "6\n",
      "24\n",
      "24\n"
     ]
    }
   ],
   "source": [
    "print(ar.size)\n",
    "print(ar2d.size)\n",
    "print(ar3d.size)\n",
    "print(ar4d.size)"
   ]
  },
  {
   "cell_type": "markdown",
   "id": "fef91bce",
   "metadata": {
    "papermill": {
     "duration": 0.005668,
     "end_time": "2024-05-30T16:43:36.772646",
     "exception": false,
     "start_time": "2024-05-30T16:43:36.766978",
     "status": "completed"
    },
    "tags": []
   },
   "source": [
    "ItemSize"
   ]
  },
  {
   "cell_type": "code",
   "execution_count": 8,
   "id": "a2bcf5ac",
   "metadata": {
    "execution": {
     "iopub.execute_input": "2024-05-30T16:43:36.785530Z",
     "iopub.status.busy": "2024-05-30T16:43:36.785203Z",
     "iopub.status.idle": "2024-05-30T16:43:36.790496Z",
     "shell.execute_reply": "2024-05-30T16:43:36.789459Z"
    },
    "papermill": {
     "duration": 0.014152,
     "end_time": "2024-05-30T16:43:36.792640",
     "exception": false,
     "start_time": "2024-05-30T16:43:36.778488",
     "status": "completed"
    },
    "tags": []
   },
   "outputs": [
    {
     "name": "stdout",
     "output_type": "stream",
     "text": [
      "8 8 16 16\n"
     ]
    }
   ],
   "source": [
    "print(ar.itemsize,ar2d.itemsize,ar3d.itemsize,ar4d.itemsize)"
   ]
  },
  {
   "cell_type": "markdown",
   "id": "c474ac3b",
   "metadata": {
    "papermill": {
     "duration": 0.005567,
     "end_time": "2024-05-30T16:43:36.804121",
     "exception": false,
     "start_time": "2024-05-30T16:43:36.798554",
     "status": "completed"
    },
    "tags": []
   },
   "source": [
    "**The dimension**\n",
    "\n",
    "Here dimensionality refers to the number of axes present in the array"
   ]
  },
  {
   "cell_type": "code",
   "execution_count": 9,
   "id": "44b19e4b",
   "metadata": {
    "execution": {
     "iopub.execute_input": "2024-05-30T16:43:36.817561Z",
     "iopub.status.busy": "2024-05-30T16:43:36.817184Z",
     "iopub.status.idle": "2024-05-30T16:43:36.822406Z",
     "shell.execute_reply": "2024-05-30T16:43:36.821392Z"
    },
    "papermill": {
     "duration": 0.014762,
     "end_time": "2024-05-30T16:43:36.824893",
     "exception": false,
     "start_time": "2024-05-30T16:43:36.810131",
     "status": "completed"
    },
    "tags": []
   },
   "outputs": [
    {
     "name": "stdout",
     "output_type": "stream",
     "text": [
      "1\n",
      "2\n",
      "3\n",
      "3\n"
     ]
    }
   ],
   "source": [
    "print(ar.ndim)   #1-d\n",
    "print(ar2d.ndim) #2-d\n",
    "print(ar3d.ndim) #3-d\n",
    "print(ar4d.ndim) #3-d"
   ]
  },
  {
   "cell_type": "markdown",
   "id": "244d5cf3",
   "metadata": {
    "papermill": {
     "duration": 0.005944,
     "end_time": "2024-05-30T16:43:36.836898",
     "exception": false,
     "start_time": "2024-05-30T16:43:36.830954",
     "status": "completed"
    },
    "tags": []
   },
   "source": [
    "# **Operations**\n",
    "\n",
    "Various operations including mathematical operations like sin, cosine, inverse of the former ones, rounding about, modulus, flood division, etc can be performed"
   ]
  },
  {
   "cell_type": "code",
   "execution_count": 10,
   "id": "0e852b1e",
   "metadata": {
    "execution": {
     "iopub.execute_input": "2024-05-30T16:43:36.850392Z",
     "iopub.status.busy": "2024-05-30T16:43:36.849723Z",
     "iopub.status.idle": "2024-05-30T16:43:36.856666Z",
     "shell.execute_reply": "2024-05-30T16:43:36.855606Z"
    },
    "papermill": {
     "duration": 0.015871,
     "end_time": "2024-05-30T16:43:36.858713",
     "exception": false,
     "start_time": "2024-05-30T16:43:36.842842",
     "status": "completed"
    },
    "tags": []
   },
   "outputs": [
    {
     "name": "stdout",
     "output_type": "stream",
     "text": [
      "[ 2  4  6  8 10] [0 0 0 0 0]\n",
      "[ 1  4  9 16 25] [1. 1. 1. 1. 1.] 120\n",
      "[[[10.         10.43478261 10.86956522 11.30434783]\n",
      "  [11.73913043 12.17391304 12.60869565 13.04347826]]\n",
      "\n",
      " [[13.47826087 13.91304348 14.34782609 14.7826087 ]\n",
      "  [15.2173913  15.65217391 16.08695652 16.52173913]]\n",
      "\n",
      " [[16.95652174 17.39130435 17.82608696 18.26086957]\n",
      "  [18.69565217 19.13043478 19.56521739 20.        ]]]\n"
     ]
    }
   ],
   "source": [
    "#Addition and subtraction\n",
    "print(np.add(ar,ar1),np.subtract(ar,ar1))\n",
    "#Multiplication, Division and Prod\n",
    "print(np.multiply(ar,ar1),np.divide(ar,ar1),np.prod(ar))\n",
    "#Returns the real parts for complex numbers\n",
    "print(np.real_if_close(ar3d))"
   ]
  },
  {
   "cell_type": "markdown",
   "id": "d7ffc740",
   "metadata": {
    "papermill": {
     "duration": 0.005856,
     "end_time": "2024-05-30T16:43:36.870528",
     "exception": false,
     "start_time": "2024-05-30T16:43:36.864672",
     "status": "completed"
    },
    "tags": []
   },
   "source": [
    "# **Universal Functions**\n",
    "\n",
    "*  these are functions that operate element by element on the arrays\n",
    "*  the add function adds all the elements in the array\n",
    "*  the accumulate function applies the result as if applied to all the elements in the array\n",
    "*  the outer function gives the outer product for the two vectors which can be used to expand the dimensionality"
   ]
  },
  {
   "cell_type": "code",
   "execution_count": 11,
   "id": "9087a670",
   "metadata": {
    "execution": {
     "iopub.execute_input": "2024-05-30T16:43:36.884676Z",
     "iopub.status.busy": "2024-05-30T16:43:36.883612Z",
     "iopub.status.idle": "2024-05-30T16:43:36.889442Z",
     "shell.execute_reply": "2024-05-30T16:43:36.888440Z"
    },
    "papermill": {
     "duration": 0.014927,
     "end_time": "2024-05-30T16:43:36.891526",
     "exception": false,
     "start_time": "2024-05-30T16:43:36.876599",
     "status": "completed"
    },
    "tags": []
   },
   "outputs": [
    {
     "name": "stdout",
     "output_type": "stream",
     "text": [
      "[ 1  3  6 10 15]\n",
      "[[ 1  2  3  4  5]\n",
      " [ 2  4  6  8 10]\n",
      " [ 3  6  9 12 15]\n",
      " [ 4  8 12 16 20]\n",
      " [ 5 10 15 20 25]]\n"
     ]
    }
   ],
   "source": [
    "print(np.add.accumulate(ar))\n",
    "print(np.outer(ar,ar1))"
   ]
  },
  {
   "cell_type": "markdown",
   "id": "c5d51715",
   "metadata": {
    "papermill": {
     "duration": 0.005754,
     "end_time": "2024-05-30T16:43:36.903295",
     "exception": false,
     "start_time": "2024-05-30T16:43:36.897541",
     "status": "completed"
    },
    "tags": []
   },
   "source": [
    "# **Indexing, Slicing, reshaping and Resizing ***"
   ]
  },
  {
   "cell_type": "code",
   "execution_count": 12,
   "id": "193824d4",
   "metadata": {
    "execution": {
     "iopub.execute_input": "2024-05-30T16:43:36.916824Z",
     "iopub.status.busy": "2024-05-30T16:43:36.916508Z",
     "iopub.status.idle": "2024-05-30T16:43:36.921850Z",
     "shell.execute_reply": "2024-05-30T16:43:36.920884Z"
    },
    "papermill": {
     "duration": 0.014867,
     "end_time": "2024-05-30T16:43:36.924070",
     "exception": false,
     "start_time": "2024-05-30T16:43:36.909203",
     "status": "completed"
    },
    "tags": []
   },
   "outputs": [
    {
     "name": "stdout",
     "output_type": "stream",
     "text": [
      "1\n",
      "2\n",
      "(12.608695652173914+0j)\n",
      "(18.26086956521739+0j)\n"
     ]
    }
   ],
   "source": [
    "#Indexing\n",
    "print(ar[0])\n",
    "print(ar2d[0,1])\n",
    "print(ar3d[0,1,2])\n",
    "print(ar4d[3,0,1])"
   ]
  },
  {
   "cell_type": "code",
   "execution_count": 13,
   "id": "1693312a",
   "metadata": {
    "execution": {
     "iopub.execute_input": "2024-05-30T16:43:36.937686Z",
     "iopub.status.busy": "2024-05-30T16:43:36.937384Z",
     "iopub.status.idle": "2024-05-30T16:43:36.942422Z",
     "shell.execute_reply": "2024-05-30T16:43:36.941424Z"
    },
    "papermill": {
     "duration": 0.014292,
     "end_time": "2024-05-30T16:43:36.944555",
     "exception": false,
     "start_time": "2024-05-30T16:43:36.930263",
     "status": "completed"
    },
    "tags": []
   },
   "outputs": [
    {
     "name": "stdout",
     "output_type": "stream",
     "text": [
      "[1 2]\n",
      "2\n"
     ]
    }
   ],
   "source": [
    "#Slicing\n",
    "print(ar[0:2])\n",
    "print(ar2d[0][1])"
   ]
  }
 ],
 "metadata": {
  "kaggle": {
   "accelerator": "none",
   "dataSources": [],
   "dockerImageVersionId": 30698,
   "isGpuEnabled": false,
   "isInternetEnabled": false,
   "language": "python",
   "sourceType": "notebook"
  },
  "kernelspec": {
   "display_name": "Python 3",
   "language": "python",
   "name": "python3"
  },
  "language_info": {
   "codemirror_mode": {
    "name": "ipython",
    "version": 3
   },
   "file_extension": ".py",
   "mimetype": "text/x-python",
   "name": "python",
   "nbconvert_exporter": "python",
   "pygments_lexer": "ipython3",
   "version": "3.10.13"
  },
  "papermill": {
   "default_parameters": {},
   "duration": 5.852715,
   "end_time": "2024-05-30T16:43:37.369499",
   "environment_variables": {},
   "exception": null,
   "input_path": "__notebook__.ipynb",
   "output_path": "__notebook__.ipynb",
   "parameters": {},
   "start_time": "2024-05-30T16:43:31.516784",
   "version": "2.5.0"
  }
 },
 "nbformat": 4,
 "nbformat_minor": 5
}
